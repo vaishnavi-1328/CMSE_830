{
 "cells": [
  {
   "cell_type": "markdown",
   "metadata": {},
   "source": [
    "![xkcd](https://imgs.xkcd.com/comics/machine_learning_2x.png)\n",
    "\n",
    "_____\n",
    "\n",
    "# Linear Algebra Homework\n",
    "\n",
    "_____"
   ]
  },
  {
   "cell_type": "markdown",
   "metadata": {},
   "source": [
    "\n",
    "### Problem 1: Interpolation versus Regression (5 points)\n",
    "\n",
    "In your own words, describe the difference between regression and interpolation using the language of linear algebra. Does linear algebra provide an approach to extrapolation? Why or why not? "
   ]
  },
  {
   "cell_type": "markdown",
   "metadata": {},
   "source": [
    "Regression is the process of finding the line of best fit. Interpolation is the process of using the line of best fit to estimate the value of one variable from the value of another, provided that the value you are using is within the range of your data. If it's outside the range, then you would be using Extrapolation.\n",
    "Regression is about finding a general trend in how the data is behaving over the x axis. Interpolation is finding the perfect function that covers all the data points in the \n",
    "dataset. Interpolation is fitting a curve through all the data points. \n",
    "Regression is used when we have more data points than the parameters in the model, typically in cases where data points do not lie exactly on a single line or curve due to noise or inherent variability. The objective of regression is to find an \"optimal\" fit that minimizes some form of error, often by minimizing the squared distance between the data points and the fit function (e.g., least-squares regression).\n",
    "\n",
    "$$\\textbf{Linear Algebraic Formulation of Interpolation vs. Regression}$$\n",
    "\n",
    "$$\\text{Given data points: } \\{(x_i, y_i)\\}_{i=1}^n$$\n",
    "\n",
    "$$\\textbf{Linear Interpolation:}$$\n",
    "$$\\begin{align*}\n",
    "X\\beta &= y \\\\\n",
    "\\text{where: } X &= \\begin{bmatrix} \n",
    "1 & x_1 & x_1^2 & \\cdots & x_1^{n-1} \\\\\n",
    "1 & x_2 & x_2^2 & \\cdots & x_2^{n-1} \\\\\n",
    "\\vdots & \\vdots & \\vdots & \\ddots & \\vdots \\\\\n",
    "1 & x_n & x_n^2 & \\cdots & x_n^{n-1}\n",
    "\\end{bmatrix} \\\\\n",
    "\\beta &= \\begin{bmatrix} \\beta_0 \\\\ \\beta_1 \\\\ \\vdots \\\\ \\beta_{n-1} \\end{bmatrix}, \\;\n",
    "y = \\begin{bmatrix} y_1 \\\\ y_2 \\\\ \\vdots \\\\ y_n \\end{bmatrix}\n",
    "\\end{align*}$$\n",
    "\n",
    "$$\\text{Exact solution when } X \\text{ is square and invertible: } \\beta = X^{-1}y$$\n",
    "\n",
    "$$\\textbf{Linear Regression:}$$\n",
    "$$\\begin{align*}\n",
    "\\min_\\beta \\|X\\beta - y\\|_2^2 &= \\min_\\beta (X\\beta - y)^T(X\\beta - y) \\\\\n",
    "\\text{where: } X &= \\begin{bmatrix} \n",
    "1 & x_1 \\\\\n",
    "1 & x_2 \\\\\n",
    "\\vdots & \\vdots \\\\\n",
    "1 & x_n\n",
    "\\end{bmatrix} \\\\\n",
    "\\beta &= \\begin{bmatrix} \\beta_0 \\\\ \\beta_1 \\end{bmatrix}, \\;\n",
    "y = \\begin{bmatrix} y_1 \\\\ y_2 \\\\ \\vdots \\\\ y_n \\end{bmatrix}\n",
    "\\end{align*}$$\n",
    "\n",
    "$$\\text{Normal equations solution: } \\beta = (X^TX)^{-1}X^Ty$$\n",
    "\n",
    "$$\\textbf{Key Differences:}$$\n",
    "$$\\begin{align*}\n",
    "\\text{Interpolation: } & \\text{Number of parameters } = \\text{Number of points} \\\\\n",
    "& \\dim(\\beta) = n \\\\\n",
    "\\\\\n",
    "\\text{Regression: } & \\text{Number of parameters } < \\text{Number of points} \\\\\n",
    "& \\dim(\\beta) < n\n",
    "\\end{align*}$$\n",
    "\n",
    "$$\\textbf{Matrix Properties:}$$\n",
    "$$\\begin{align*}\n",
    "\\text{Interpolation: } & X \\text{ is } n \\times n \\text{ (square matrix)} \\\\\n",
    "\\text{Regression: } & X \\text{ is } n \\times p \\text{ where } p < n \\text{ (rectangular matrix)}\n",
    "\\end{align*}$$\n",
    "\n",
    "$$\\textbf{Error Metrics:}$$\n",
    "$$\\begin{align*}\n",
    "\\text{Interpolation Error: } & e = 0 = X\\beta - y \\\\\n",
    "\\text{Regression Error: } & e = X\\beta - y \\neq 0 \\text{ (minimized)} \\\\\n",
    "& e^Te = \\|X\\beta - y\\|_2^2 \\text{ is minimized}\n",
    "\\end{align*}$$\n",
    "\n",
    "This formulation highlights how both methods can be understood through matrix operations, with interpolation seeking an exact solution to a square system and regression finding an optimal solution to an overdetermined system via least squares.\n",
    "\n",
    "AI tool: Chatgpt"
   ]
  },
  {
   "cell_type": "markdown",
   "metadata": {},
   "source": [
    "____\n",
    "\n",
    "### Problem 2: Polynomial Regression (10 points)\n",
    "\n",
    "We have learned that linear regression refers to fitting data to a model in which the weights appear linearly. But, the model itself need not use linear functions. The Gaussian RBFs we used were an example of that. Another very common choice is that of a polynomial. Let's code two cases in which the number of weights is and is not the same as the number of data points.\n",
    "\n",
    "We wish to model our data with a polynomial. The data you are given is:\n",
    "$$x = [-2, -0.5, 0, 1] ,$$\n",
    "$$y = [0, 0.9375, 1, 3] .$$\n",
    "Because you have four data points, you are tempted to use a model with four parameters, such as:\n",
    "$$y = w_0 + w_1x + w_2x^2 + w_3x^3 .$$\n",
    "But, you are also worried that the data may be noisy so you **also** want to fit it to only three weights. You decide that the $x^3$ term could cause large excursions that might follow the noise, so your second model is:\n",
    "$$y = w_0 + w_1x + w_2x^2.$$\n",
    "\n",
    "Using only libraries from `linalg`, fit the data to both models. Plot the data and the two resulting models.\n",
    "\n",
    "As we have seen, the coding for this is trivial - the hard part is setting up the vectors and matrices. Slow down and be sure you understand what you are doing: this will help you set up the problem so that it is very easy. I'll give you a hint:\n",
    "$$\\underbrace{\\begin{bmatrix} y_1\\\\y_2\\\\y_3\\\\y_4\\end{bmatrix}}_{4\\times 1} = \\underbrace{\\begin{bmatrix} 0\\\\0.09375\\\\1\\\\3\\end{bmatrix}}_{4\\times 1} =\\underbrace{\\begin{bmatrix} 1 & -2 & 4 & 8 \\\\ 1 & -0.5 & 0.25 & 0.125 \\\\\\vdots  \\end{bmatrix}}_{4\\times 4}\\underbrace{\\begin{bmatrix} w_0\\\\w_1\\\\w_2\\\\w_3\\end{bmatrix}}_{4\\times 1}.$$\n",
    "It is crucial that you know where this came from!! Explain in a markdown cell where I got these numbers from.\n",
    "\n",
    "You then use Python to get the weight vector ${\\bf w}$, which allows you to plot the resulting polynomial. In one case you will need to use the pseudoinverse, [the `pinv` function](https://numpy.org/doc/stable/reference/generated/numpy.linalg.pinv.html), or in [SciPy](https://docs.scipy.org/doc/scipy/reference/generated/scipy.linalg.pinv.html#scipy.linalg.pinv), because you have more data points than weights.\n",
    "\n",
    "If you write your code in a general way, it is easy to implement the third model:\n",
    "$$y = w_0 + w_1x.$$\n",
    "Do that next.\n",
    "\n",
    "In the world of machine learning, we would need to figure out which of these three models is the \"best\", a process called \"_model selection_\". We won't worry about it now, but I wanted you to at least be aware of the idea. A second idea I'll introduce here is \"_regularization_\", since it is connected. Regularization is penalizing weights that cause large excursions; here, we are doing this by hand by dropping the higher-order terms (e.g., setting $w_3=0$), thereby prohibiting predictions with large excursions.  There are very powerful techniques for automating this. There is a lot to learn from this problem other than just setting up regression problems and inverting a matrix! 🤓 In a markdown cell, comment on which model you think is best based on your plot(s) and explain your reasons. (If you take a machine learning course, you will learn powerful mathematical methods to make this judgement.)\n"
   ]
  },
  {
   "cell_type": "markdown",
   "metadata": {},
   "source": [
    "The numbers that were given to solve is a sample dataset. The left hand side contains y values as given. The right hand side contains the values of functions of x which is the input data. The first column contains x riased to power 0, second column is x raised to 1, third is x raised to 2. The weight matrix contains just the same number of rows as the number of functions of x, ie 3. The equations given were broken down to fit into matrices to solve for the weight matrix."
   ]
  },
  {
   "cell_type": "code",
   "execution_count": 42,
   "metadata": {},
   "outputs": [],
   "source": [
    "import numpy as np\n",
    "\n",
    "x = np.array([-2, -0.5, 0, 1])\n",
    "y = np.array([0, 0.9375, 1, 3])\n",
    "\n",
    "def generic(params):\n",
    "    # Initialize the design matrix within the function\n",
    "    li = [[1] * len(x)]  # Start with the column of ones for x^0 terms\n",
    "    for i in range(1, params):\n",
    "        r = [val ** i for val in x]\n",
    "        li.append(r)\n",
    "    \n",
    "    # Calculate the weights using the pseudoinverse\n",
    "    X = np.array(li).transpose()  # Transpose to get the correct design matrix\n",
    "    w = np.linalg.pinv(X) @ y\n",
    "\n",
    "    # Generate polynomial values for plotting\n",
    "    x_vals = np.linspace(-2.5, 1.5, 100)\n",
    "    y_vals = np.zeros_like(x_vals)\n",
    "    for i in range(params):\n",
    "        y_vals += w[i] * x_vals**i  # Accumulate terms of the polynomial\n",
    "    \n",
    "    return y_vals"
   ]
  },
  {
   "cell_type": "code",
   "execution_count": 43,
   "metadata": {},
   "outputs": [
    {
     "data": {
      "image/png": "[encoded data removed]",
      "text/plain": [
       "<Figure size 1000x600 with 1 Axes>"
      ]
     },
     "metadata": {},
     "output_type": "display_data"
    }
   ],
   "source": [
    "import matplotlib.pyplot as plt\n",
    "plt.figure(figsize=(10, 6))\n",
    "plt.scatter(x, y, color='black', label='Data Points')\n",
    "y_vals2=generic(2)\n",
    "y_vals3=generic(3)\n",
    "plt.plot(x_vals, y_vals3, label='Degree 3 Polynomial Fit', color='blue')\n",
    "plt.plot(x_vals, y_vals2, label='Degree 2 Polynomial Fit', color='red', linestyle='--')\n",
    "plt.xlabel('x')\n",
    "plt.ylabel('y')\n",
    "plt.legend()\n",
    "plt.title('Polynomial Fits to Data')\n",
    "plt.grid(True)\n",
    "plt.show()"
   ]
  },
  {
   "cell_type": "markdown",
   "metadata": {},
   "source": [
    "____\n",
    "\n",
    "### Problem 3: Inverting a Matrix By Hand (10 points)\n",
    "\n",
    "I mentioned in class that we will mostly rely on Python libraries for performing linear algebra operations. Why not, isn't that why they were developed?!\n",
    "\n",
    "However, it is also good practice to know how to do these by yourself for the simplest cases. This allows you to explore ideas without a computer and build your intuition for what the libraries are doing. We'll learn here how to invert a $2\\times 2$ matrix by hand. Being able to do this by hand also gives you a test case to ensure you are using the Python libraries correctly.\n",
    "\n",
    "Follow these steps:\n",
    "1. Make a $2\\times 2$ matrix $A = \\begin{bmatrix} a & b \\\\ c & d\\end{bmatrix}$ using a NumPy array (you might want to try several choices); if you don't know about these already, NumPy has [some nice functionality for creating arrays](https://numpy.org/doc/stable/user/basics.creation.html), which can be matrices, of various types.\n",
    "2. Find the [determinant](https://en.wikipedia.org/wiki/Determinant) of your matrix, using:\n",
    "$$ \\mathrm{det}(A) = ad - cb.$$\n",
    "Do this by hand, not with a library.\n",
    "3. Form the inverse $A^{-1}$ with\n",
    "$$A^{-1} = \\frac{1}{\\mathrm{det}(A)}\\begin{bmatrix} d & -b \\\\ -c & a\\end{bmatrix}.$$\n",
    "Show all of your steps using $\\LaTeX$ in a markdown cell.\n",
    "4. Now that you have $A^{-1}$, use the rules of matrix multiplication to find the product $A^{-1}A$. Show your steps.\n",
    "5. Vary the matrix $A$ and comment on anything interesting you see. For example, what would $A$ look like if its determinant were $0$? For example, make a matrix for which $b=2a$ and $d = 2c$. What does this case correspond to?"
   ]
  },
  {
   "cell_type": "markdown",
   "metadata": {},
   "source": [
    "Case 1: \n",
    "\n",
    "\n",
    "$A = \\begin{bmatrix} 1 & 2 \\\\ 3 & 4\\end{bmatrix}$\n",
    "The inverse $A^{-1}$ \n",
    "\n",
    "$A^{-1} = \\frac{1}{\\mathrm{det}(A)}\\begin{bmatrix} d & -b \\\\ -c & a\\end{bmatrix}$ = $\\frac{1}{-2}\\begin{bmatrix} 4 & -2 \\\\ -3 & 1\\end{bmatrix}$\n",
    "\n",
    "$A^{-1} = \\begin{bmatrix} -2 & 1 \\\\ 1.5 & 0.5\\end{bmatrix}$\n",
    "\n",
    "$AA^{-1} = \\begin{bmatrix} -2 & 1 \\\\ 1.5 & 0.5\\end{bmatrix} * \\begin{bmatrix} 1 & 2 \\\\ 3 & 4\\end{bmatrix} = \\begin{bmatrix} -2*1+3*1 & -2*2+4*1 \\\\ 1.5+3*0.5 & 1.5*2-0.5*4\\end{bmatrix} = \\begin{bmatrix} 1 & 0 \\\\ 0 & 1\\end{bmatrix}$\n",
    "\n",
    "Case 2: For det(A) = 0:\n",
    "\n",
    "The determinant is given by $ad - bc = 0$\n",
    "This means: $ad = bc$\n",
    "Here's one simple example:\n",
    "$$A = \\begin{bmatrix} 2 & 4 \\\\ 1 & 2 \\end{bmatrix}$$\n",
    "We can verify: $2(2) - 4(1) = 4 - 4 = 0$\n",
    "This is a singular matrix where one row is a scalar multiple of the other. In this case, row 2 is $\\frac{1}{2}$ times row 1.\n",
    "Case 2: For $b = 2a$ and $d = 2c$:\n",
    "$$A = \\begin{bmatrix} a & 2a \\\\ c & 2c \\end{bmatrix}$$\n",
    "Let's calculate the determinant:\n",
    "$$\\det(A) = a(2c) - (2a)(c) = 2ac - 2ac = 0$$\n",
    "\n",
    "This is an interesting case! When $b = 2a$ and $d = 2c$, the matrix automatically has a determinant of zero. This means:\n",
    "\n",
    "The columns are linearly dependent\n",
    "Each column is a scalar multiple of the other (in this case, column 2 is twice column 1)\n",
    "The matrix transformation maps all vectors onto a line\n",
    "The matrix is not invertible\n",
    "\n",
    "Here's a concrete example:\n",
    "$$A = \\begin{bmatrix} 3 & 6 \\\\ 2 & 4 \\end{bmatrix}$$\n",
    "Let's show both cases in LaTeX with step-by-step multiplication:\n",
    "For Case 1:\n",
    "$$\\begin{bmatrix} 2 & 4 \\\\ 1 & 2 \\end{bmatrix} \\begin{bmatrix} x \\\\ y \\end{bmatrix} = \\begin{bmatrix} 2x + 4y \\\\ x + 2y \\end{bmatrix}$$\n",
    "\n",
    "\n",
    "For Case 2:\n",
    "$$\\begin{bmatrix} 3 & 6 \\\\ 2 & 4 \\end{bmatrix} \\begin{bmatrix} x \\\\ y \\end{bmatrix} = \\begin{bmatrix} 3x + 6y \\\\ 2x + 4y \\end{bmatrix} = \\begin{bmatrix} 3(x + 2y) \\\\ 2(x + 2y) \\end{bmatrix}$$\n",
    "The last step in Case 2 shows why this matrix maps everything to a line: both output components are scalar multiples of the same linear combination $(x + 2y)$."
   ]
  },
  {
   "cell_type": "markdown",
   "metadata": {},
   "source": [
    "____\n",
    "\n",
    "### Problem 4: Inner and Outer Product (5 points)\n",
    "\n",
    "Given the two vectors:\n",
    "$$v_1 = \\begin{bmatrix} 1 \\\\ 2 \\\\ 3\\end{bmatrix} \\: v_2 = \\begin{bmatrix} 1 \\\\ 1 \\\\ 1\\end{bmatrix},$$\n",
    "compute the two outer products\n",
    "$$v_1 v_2^T,$$\n",
    "and\n",
    "$$v_2 v_1^T.$$\n",
    "Do this _both_ by hand, and show your work using $\\LaTeX$, and using a NumPy or SciPy library. Next, do the same for the two possible **inner** products. \n",
    "\n",
    "\n",
    "Does the order of the vectors matter for the outer product? That is, what is the commutivity relation for these operations? Show and explain all of the details.\n",
    "\n",
    "\n"
   ]
  },
  {
   "cell_type": "markdown",
   "metadata": {},
   "source": [
    "or $v_1 v_2^T$:\n",
    "$$v_1 v_2^T = \\begin{bmatrix} 1 \\ 2 \\ 3\\end{bmatrix} \\begin{bmatrix} 1 & 1 & 1\\end{bmatrix} = \\begin{bmatrix} 1\\cdot1 & 1\\cdot1 & 1\\cdot1 \\ 2\\cdot1 & 2\\cdot1 & 2\\cdot1 \\ 3\\cdot1 & 3\\cdot1 & 3\\cdot1\\end{bmatrix} = \\begin{bmatrix} 1 & 1 & 1 \\ 2 & 2 & 2 \\ 3 & 3 & 3\\end{bmatrix}$$\n",
    "For $v_2 v_1^T$:\n",
    "$$v_2 v_1^T = \\begin{bmatrix} 1 \\ 1 \\ 1\\end{bmatrix} \\begin{bmatrix} 1 & 2 & 3\\end{bmatrix} = \\begin{bmatrix} 1\\cdot1 & 1\\cdot2 & 1\\cdot3 \\ 1\\cdot1 & 1\\cdot2 & 1\\cdot3 \\ 1\\cdot1 & 1\\cdot2 & 1\\cdot3\\end{bmatrix} = \\begin{bmatrix} 1 & 2 & 3 \\ 1 & 2 & 3 \\ 1 & 2 & 3\\end{bmatrix}$$"
   ]
  },
  {
   "cell_type": "code",
   "execution_count": 33,
   "metadata": {},
   "outputs": [
    {
     "name": "stdout",
     "output_type": "stream",
     "text": [
      "v1 v2^T =\n",
      " [[1 1 1]\n",
      " [2 2 2]\n",
      " [3 3 3]]\n",
      "\n",
      "v2 v1^T =\n",
      " [[1 2 3]\n",
      " [1 2 3]\n",
      " [1 2 3]]\n"
     ]
    }
   ],
   "source": [
    "import numpy as np\n",
    "\n",
    "v1 = np.array([[1], [2], [3]])\n",
    "v2 = np.array([[1], [1], [1]])\n",
    "\n",
    "# Outer products\n",
    "outer_product1 = np.dot(v1, v2.T)\n",
    "outer_product2 = np.dot(v2, v1.T)\n",
    "\n",
    "print(\"v1 v2^T =\\n\", outer_product1)\n",
    "print(\"\\nv2 v1^T =\\n\", outer_product2)"
   ]
  },
  {
   "cell_type": "markdown",
   "metadata": {},
   "source": [
    "Now for the inner products:\n",
    "\n",
    "$v_1^T v_2$ (traditional dot product):\n",
    "$$v_1^T v_2 = \\begin{bmatrix} 1 & 2 & 3\\end{bmatrix} \\begin{bmatrix} 1 \\ 1 \\ 1\\end{bmatrix} = 1\\cdot1 + 2\\cdot1 + 3\\cdot1 = 6$$\n",
    "$v_2^T v_1$:\n",
    "$$v_2^T v_1 = \\begin{bmatrix} 1 & 1 & 1\\end{bmatrix} \\begin{bmatrix} 1 \\ 2 \\ 3\\end{bmatrix} = 1\\cdot1 + 1\\cdot2 + 1\\cdot3 = 6$$"
   ]
  },
  {
   "cell_type": "code",
   "execution_count": 34,
   "metadata": {},
   "outputs": [
    {
     "name": "stdout",
     "output_type": "stream",
     "text": [
      "v1^T v2 = 6\n",
      "v2^T v1 = 6\n"
     ]
    }
   ],
   "source": [
    "inner_product1 = np.dot(v1.T, v2)[0][0]  # need [0][0] to get scalar\n",
    "inner_product2 = np.dot(v2.T, v1)[0][0]\n",
    "\n",
    "print(\"v1^T v2 =\", inner_product1)\n",
    "print(\"v2^T v1 =\", inner_product2)"
   ]
  },
  {
   "cell_type": "markdown",
   "metadata": {},
   "source": [
    "\n",
    "\n",
    "For outer products: The order DOES matter. As we can see above:\n",
    "\n",
    "$v_1 v_2^T \\neq v_2 v_1^T$\n",
    "In fact, they're not even the same size! $v_1 v_2^T$ and $v_2 v_1^T$ are both 3×3 matrices, but with different arrangements of numbers.\n",
    "The relationship between them is that one is not equal to the other, but $v_1 v_2^T = (v_2 v_1^T)^T$\n",
    "\n",
    "\n",
    "For inner products: The order DOESN'T matter:\n",
    "\n",
    "$v_1^T v_2 = v_2^T v_1$\n",
    "This is because scalar multiplication is commutative\n",
    "Both products give us 6 in this case"
   ]
  },
  {
   "cell_type": "markdown",
   "metadata": {},
   "source": [
    "____\n",
    "\n",
    "### Problem 5: Randomized Experiments (10 points)\n",
    "\n",
    "In data science, we often work with existing datasets. However, some of the most crucial decisions in both personal and professional contexts depend on data that must first be collected through carefully designed experiments. From medical trials testing new treatments to A/B tests in tech companies, the quality of our conclusions depends fundamentally on the quality of our experimental design.\n",
    "\n",
    "Read Chapter 11 (\"Randomized Experiments\") from \"Thinking Clearly with Data.\" As you read, consider:\n",
    "- How does randomization address the problem of bias? What is the connection to missingness? \n",
    "   - Randomization reduces bias but giving equal chances to all the points on the sample space to contribute to the model optimization. Because of randomization, there are no systematic differences between groups and the population as a whole. Randomization guarantees that the bias si zero. So noise is the only reason that the estimate we get from comparing the mean outcome in the treated and untreated groups in ap roperly randomized experiment difers from the true causal efect.To reduce noise in randomized experiments and make treated and untreated groups more similar in observable characteristics, researchers can use blocking or stratification. This approach involves grouping participants by key traits (e.g., biological sex) and then randomly assigning treatment within each group. While randomization removes bias, it may still leave noise, especially in small samples or if groups differ on important traits. Blocking helps ensure similarity not just on average but in practice, reducing noise and improving precision. An advanced version of this is matched-pair design, where similar individuals are paired and one is randomly assigned treatment.\n",
    "- What makes an experiment truly \"controlled\"?\n",
    "   - Random Assignment: Subjects are randomly assigned to either the treatment group (those receiving the intervention) or the control group (those not receiving the intervention). Randomization helps distribute characteristics evenly between groups, reducing bias.\n",
    "   - Control Group: The control group does not receive the treatment, serving as a baseline for comparison. This helps researchers distinguish the treatment's effects from other factors.\n",
    "   - Consistency of Conditions: Both groups are kept in similar conditions, except for the variable being tested. This controls for external influences that could affect the outcome.\n",
    "   - Pre- and Post-Testing: Measurements are taken before and after the treatment to evaluate any changes due to the intervention.\n",
    "   - Replication: The experiment can be replicated with the same conditions to confirm results, adding to the reliability of the findings.\n",
    "- Why might seemingly well-designed experiments still fail?\n",
    "   - Experiments still fail because of Noncompliers. Noncompilers are the people or the subjects that do not follow the 'rules' which were meant to be followed for belonging to one group, because of which, the results are not always precise. Another factor that influences the noisiness of experimental estimates is how variable the outcome is in both the treated and untreated groups.experiments may yield imprecise or \"noisy\" estimates if the outcome being measured has high variance. High-variance outcomes mean there is more variability in the results due to factors beyond the treatment itself, making it harder to identify the true effect of the treatment. This lack of precision can be a reason for an experiment to \"fail\" in terms of producing clear, reliable estimates. The paragraph acknowledges that while some high-variance outcomes are unavoidable (such as heart attacks), choosing lower-variance outcomes or methods to reduce noise can help improve the success and precision of experimental results.\n",
    "\n",
    "- Provide a concise summary of the chapter's main points.\n",
    "* Randomizing treatment yielding unbiased causal estimates:\n",
    "\n",
    "\n",
    "   This is a fundamental principle of experimental design\n",
    "   When treatments are randomly assigned, we can better isolate the causal effect of the treatment\n",
    "   Randomization helps eliminate systematic differences between treatment and control groups that could bias results\n",
    "   This addresses the challenge mentioned in the text about getting \"unbiased estimates of causal relationships\". It positions randomized experiments as a more rigorous way to learn about causal relationships compared to just controlling for confounders\n",
    "\n",
    "\n",
    "* Statistical inference and hypothesis testing in experimental settings:\n",
    "   These tools help researchers distinguish between:\n",
    "\n",
    "   Genuine effects (real impact of the treatment) and Noise (random variation in the data)\n",
    "   They provide a framework for making rigorous conclusions from experimental data\n",
    "   Help determine if observed differences are statistically significant\n",
    "\n",
    "\n",
    "* Complications in randomized experiments:\n",
    "   Even with careful randomization, various issues can arise\n",
    "   The text suggests these need to be \"planned around\"\n",
    "\n",
    "* Subject dropout\n",
    "   Non-compliance with treatment\n",
    "   Implementation challenges\n",
    "   External factors affecting results\n",
    "* Importance of randomized assignment in analysis:\n",
    "\n",
    "   When subjects don't follow their experimental assignments (non-compliance):\n",
    "\n",
    "   Still important to analyze based on original random assignment\n",
    "   This preserves the unbiased nature of the experimental design\n",
    "   Helps maintain the integrity of the causal inference\n",
    "* Natural experiments as alternatives:\n",
    "\n",
    "   Used when traditional randomized experiments aren't feasible\n",
    "   Described as \"often fruitful, fortunate opportunities\"\n",
    "   Allow researchers to study causal relationships in real-world settings\n",
    "   Used when direct experimentation isn't possible due to:\n",
    "\n",
    "   Ethical considerations\n",
    "   Practical limitations\n",
    "   Resource constraints\n",
    "2. Identify and explain what you consider to be the single most important conclusion from this chapter. Why did this particular point resonate with you?\n",
    "   - Randomized experiments are the gold standard for establishing causation because they help eliminate systematic bias and confounding variables. When properly designed - with random assignment to treatment and control groups, adequate sample size, and appropriate controls - they allow researchers to make unbiased causal inferences about treatment effects. Even when perfect randomization isn't possible, understanding these principles helps researchers design better studies and interpret results more accurately. Randomization is our best tool for understanding what truly causes what.\n",
    "3. Give a real-world example where proper experimental design is crucial (this could be from medicine, technology, social science, etc.).\n",
    "   - drug development and clinical trials for COVID-19 vaccines\n",
    "4. Reflect on how this knowledge might influence your:\n",
    "   - Future work as a data scientist\n",
    "      - In any experiment with data, I will test with randomised sample. I will conduct hypothesis testing for conducting experiements. There is not always a situation where the results will be perfect, by doing the hypothesis testing, we will have proof \n",
    "   - Personal decision-making (especially regarding medical or scientific claims)\n",
    "      - It is very important to make sure that we have a big dataset and that dataset is not biased. This is important because of the impact that it might cause on the results.\n",
    "   - Understanding of scientific literature and news\n",
    "\n",
    "Use an AI assistant (like Claude 3.5 Sonnet (New), ChatGPT 4o or o1, etc.) to help you organize and synthesize the chapter's key concepts. Give your own summary and then some suggested prompts:\n",
    "- \"Create a comparison table showing the differences between randomized experiments and observational studies\"\n",
    "- \"Generate a decision tree using Mermaid for determining whether an experiment is properly randomized\"\n",
    "- \"Organize my summary of the key threats to validity in experimental design and how to address them\"\n",
    "\n",
    "Include both your prompts and the AI's responses in your submission, along with your own analysis of how helpful (or not) the AI was in deepening your understanding.\n",
    "\n",
    "Remember: The best data analysis cannot overcome poor experimental design. As future data scientists, understanding how to collect good data is just as important as knowing how to analyze it."
   ]
  },
  {
   "cell_type": "markdown",
   "metadata": {},
   "source": [
    "| Feature                    | Randomized Experiments                                   | Observational Studies                                  |\n",
    "|----------------------------|----------------------------------------------------------|-------------------------------------------------------|\n",
    "| **Definition**             | Researchers actively assign subjects to treatment/control groups. | Researchers observe subjects without intervention.    |\n",
    "| **Assignment Method**      | Random assignment to treatment or control groups.        | No random assignment; groups are naturally occurring. |\n",
    "| **Control Over Variables** | High control over independent variables.                 | Limited or no control over variables.                 |\n",
    "| **Causation**              | Can establish causation if designed properly.            | Cannot establish causation, only associations.        |\n",
    "| **Bias Reduction**         | Randomization reduces selection bias and confounding.    | Higher risk of selection bias and confounding factors.|\n",
    "| **External Validity**      | Often lower (experimental settings may not reflect real life). | Higher (reflects real-life settings more closely).    |\n",
    "| **Data Collection**        | Data collected post-intervention (after treatment assignment). | Data collected without intervention (naturally occurring). |\n",
    "| **Example**                | Clinical trial testing a new drug on randomly assigned patients. | Study of lifestyle impacts on health by observing existing habits. |\n"
   ]
  },
  {
   "cell_type": "markdown",
   "metadata": {},
   "source": [
    "prompt: Generate a decision tree using Mermaid for determining whether an experiment is properly randomized\n",
    "graph TD\n",
    "    A[Start: Experiment Design] --> B{Random Assignment Method?}\n",
    "    B -->|No| C[Not Properly Randomized]\n",
    "    B -->|Yes| D{Equal Probability of Assignment?}\n",
    "    \n",
    "    D -->|No| C\n",
    "    D -->|Yes| E{Sample Size Adequate?}\n",
    "    \n",
    "    E -->|No| F[May Need Larger Sample]\n",
    "    E -->|Yes| G{Groups Balanced on Key Variables?}\n",
    "    \n",
    "    G -->|No| H{Differences Statistically Significant?}\n",
    "    G -->|Yes| I[Proceed with Experiment]\n",
    "    \n",
    "    H -->|Yes| J[Re-randomize or Stratify]\n",
    "    H -->|No| I\n",
    "    \n",
    "    I --> K{Assignment Process Documented?}\n",
    "    \n",
    "    K -->|No| L[Document Process]\n",
    "    K -->|Yes| M[Properly Randomized]\n",
    "    \n",
    "    L --> M"
   ]
  },
  {
   "cell_type": "markdown",
   "metadata": {},
   "source": [
    "AI tool: Claude 3.5 Sonnet, ChatGPT"
   ]
  },
  {
   "cell_type": "markdown",
   "metadata": {},
   "source": [
    "\n",
    "### Summary\n",
    "\n",
    "Internal Validity:\n",
    "\n",
    "\n",
    "History effects: Control timing, use control groups\n",
    "Maturation: Age-match groups, track natural changes\n",
    "Testing effects: Use different but equivalent tests\n",
    "Selection bias: Randomize assignment\n",
    "Dropout: Over-recruit, track reasons, intent-to-treat analysis\n",
    "\n",
    "\n",
    "External Validity:\n",
    "\n",
    "\n",
    "Population: Use representative samples\n",
    "Setting: Consider real-world conditions\n",
    "Time: Account for temporal effects\n",
    "\n",
    "\n",
    "Construct Validity:\n",
    "\n",
    "\n",
    "Use multiple measures\n",
    "Blind participants/researchers\n",
    "Standardize procedures\n",
    "\n",
    "\n",
    "Statistical Validity:\n",
    "\n",
    "\n",
    "Ensure adequate power\n",
    "Check assumptions\n",
    "Control for multiple comparisons"
   ]
  },
  {
   "cell_type": "markdown",
   "metadata": {},
   "source": [
    "____\n",
    "\n",
    "### Problem 6: Computational Linear Algebra (10 points)\n",
    "\n",
    "First, run this code that generates some data for you."
   ]
  },
  {
   "cell_type": "code",
   "execution_count": 3,
   "metadata": {},
   "outputs": [
    {
     "name": "stdout",
     "output_type": "stream",
     "text": [
      "Defaulting to user installation because normal site-packages is not writeable\n",
      "Collecting numpy\n",
      "  Downloading numpy-2.0.2-cp39-cp39-macosx_14_0_arm64.whl (5.3 MB)\n",
      "\u001b[K     |████████████████████████████████| 5.3 MB 3.8 MB/s eta 0:00:01\n",
      "\u001b[?25hInstalling collected packages: numpy\n",
      "Successfully installed numpy-2.0.2\n",
      "\u001b[33mWARNING: You are using pip version 21.2.4; however, version 24.3.1 is available.\n",
      "You should consider upgrading via the '/Library/Developer/CommandLineTools/usr/bin/python3 -m pip install --upgrade pip' command.\u001b[0m\n",
      "Note: you may need to restart the kernel to use updated packages.\n"
     ]
    }
   ],
   "source": [
    "pip install numpy"
   ]
  },
  {
   "cell_type": "code",
   "execution_count": 4,
   "metadata": {},
   "outputs": [],
   "source": [
    "import numpy as np\n",
    "\n",
    "# Set random seed for reproducibility\n",
    "np.random.seed(42)\n",
    "\n",
    "# Create these matrices:\n",
    "A = np.random.randn(4, 3)  # 4x3 matrix from standard normal distribution\n",
    "B = np.random.randn(3, 4)  # 3x4 matrix from standard normal distribution\n",
    "C = np.random.randn(4, 4)  # 4x4 matrix from standard normal distribution\n",
    "v = np.random.randn(3)     # vector of length 3"
   ]
  },
  {
   "cell_type": "markdown",
   "metadata": {},
   "source": [
    "Before computing anything, write down the dimensions of $A$, $B$, $v$, $AB$, $BA$, $Av$, $vA$. Do all of these make sense? If any of these don't make sense, how can you \"fix\" them? "
   ]
  },
  {
   "cell_type": "markdown",
   "metadata": {},
   "source": [
    "A = 4*3\n",
    "B = 3*4\n",
    "v= 3*1\n",
    "AB = 4*4\n",
    "BA = 3*3\n",
    "Av = 4*1\n",
    "vA = will cause an error, this can be fixed by doing the scalar multiplication"
   ]
  },
  {
   "cell_type": "markdown",
   "metadata": {},
   "source": [
    "Now, only use [Python's Numpy](https://numpy.org/doc/stable/reference/routines.linalg.html). \n",
    "\n",
    "Using Numpy perform these operations:\n",
    "1. use the @ operator to perform matrix multiplication in Python, comparing $A @ B$ and $B @ A$ and $A @ v$ and $v @ A$; explain your findings - did you get what you expected? any errors? All the matrix multiplications worked well except $v @ A$, because the dimentions of v is 3*1 and that of A is 4 * 3, since the rules for matrix multiplication is not satisfied, v cannot be multiplied with A\n",
    "2. use Numpy to compute the transpose of $C$; do this twice - do you get $C$ back again? - Yes, we do\n",
    "3. compute the trace of $C$\n",
    "4. copmute the inverse of $C$ if it has one; if it does, compute and print $CC^{-1}$\n",
    "5. form the symmetric matrix $S = \\frac{1}{2}\\left( C + C^T\\right)$; what is the transpose of $S$ and how is it related to $S$ itself? \n",
    "6. compute the eigenvalues of $S$ and $C$ - how do they differ, if they do? "
   ]
  },
  {
   "cell_type": "code",
   "execution_count": 13,
   "metadata": {},
   "outputs": [
    {
     "name": "stdout",
     "output_type": "stream",
     "text": [
      "[[ 1.20950838 -1.14003529 -0.68750654 -1.00681806]\n",
      " [ 0.26251105 -2.93470243 -2.43029531 -0.19209881]\n",
      " [-1.08325641 -2.67431618 -3.45256432 -1.3029398 ]\n",
      " [-0.08195332 -1.07854645 -0.54652697  1.0129594 ]]\n",
      "[[-5.82288394 -0.64864158  1.67636458]\n",
      " [-2.2247023   0.02409363  0.35446988]\n",
      " [-0.28222559  0.56229639  1.63399134]]\n",
      "[0.26820862 1.11165772 1.35200376 0.37510821]\n"
     ]
    }
   ],
   "source": [
    "ab = A@B\n",
    "ba = B@A\n",
    "Av = A@v\n",
    "print(ab)\n",
    "print(ba)\n",
    "print(Av)"
   ]
  },
  {
   "cell_type": "code",
   "execution_count": 14,
   "metadata": {},
   "outputs": [
    {
     "ename": "ValueError",
     "evalue": "matmul: Input operand 1 has a mismatch in its core dimension 0, with gufunc signature (n?,k),(k,m?)->(n?,m?) (size 4 is different from 3)",
     "output_type": "error",
     "traceback": [
      "\u001b[0;31m---------------------------------------------------------------------------\u001b[0m",
      "\u001b[0;31mValueError\u001b[0m                                Traceback (most recent call last)",
      "Cell \u001b[0;32mIn[14], line 1\u001b[0m\n\u001b[0;32m----> 1\u001b[0m vA \u001b[38;5;241m=\u001b[39m \u001b[43mv\u001b[49m\u001b[38;5;129;43m@A\u001b[39;49m\n\u001b[1;32m      2\u001b[0m \u001b[38;5;28mprint\u001b[39m(vA)\n",
      "\u001b[0;31mValueError\u001b[0m: matmul: Input operand 1 has a mismatch in its core dimension 0, with gufunc signature (n?,k),(k,m?)->(n?,m?) (size 4 is different from 3)"
     ]
    }
   ],
   "source": [
    "vA = v@A\n",
    "print(vA)"
   ]
  },
  {
   "cell_type": "code",
   "execution_count": 15,
   "metadata": {},
   "outputs": [
    {
     "name": "stdout",
     "output_type": "stream",
     "text": [
      "[[-0.54438272  0.11092259 -1.15099358  0.37569802]\n",
      " [-0.60063869 -0.29169375 -0.60170661  1.85227818]\n",
      " [-0.01349722 -1.05771093  0.82254491 -1.22084365]\n",
      " [ 0.2088636  -1.95967012 -1.32818605  0.19686124]]\n",
      "[[-0.54438272 -0.60063869 -0.01349722  0.2088636 ]\n",
      " [ 0.11092259 -0.29169375 -1.05771093 -1.95967012]\n",
      " [-1.15099358 -0.60170661  0.82254491 -1.32818605]\n",
      " [ 0.37569802  1.85227818 -1.22084365  0.19686124]]\n",
      "[[-0.54438272  0.11092259 -1.15099358  0.37569802]\n",
      " [-0.60063869 -0.29169375 -0.60170661  1.85227818]\n",
      " [-0.01349722 -1.05771093  0.82254491 -1.22084365]\n",
      " [ 0.2088636  -1.95967012 -1.32818605  0.19686124]]\n"
     ]
    }
   ],
   "source": [
    "print(C)\n",
    "print(C.T)\n",
    "print(C.T.T)\n"
   ]
  },
  {
   "cell_type": "code",
   "execution_count": 20,
   "metadata": {},
   "outputs": [
    {
     "name": "stdout",
     "output_type": "stream",
     "text": [
      "0.1833296736538531\n"
     ]
    }
   ],
   "source": [
    "print(sum([C[i][i] for i in range(len(C))]))"
   ]
  },
  {
   "cell_type": "markdown",
   "metadata": {},
   "source": [
    "\n",
    "$C$ , $CC^{-1}$"
   ]
  },
  {
   "cell_type": "code",
   "execution_count": 21,
   "metadata": {},
   "outputs": [
    {
     "data": {
      "text/plain": [
       "array([[-1.06921431, -0.48593431, -0.97917626,  0.54031002],\n",
       "       [ 0.17869094, -0.24687479, -0.36273004, -0.26764901],\n",
       "       [-0.50323677,  0.35587182,  0.34215509, -0.26613004],\n",
       "       [-0.48204927,  0.45902805, -0.26349188,  0.04660604]])"
      ]
     },
     "execution_count": 21,
     "metadata": {},
     "output_type": "execute_result"
    }
   ],
   "source": [
    "np.linalg.inv(C)"
   ]
  },
  {
   "cell_type": "code",
   "execution_count": 22,
   "metadata": {},
   "outputs": [
    {
     "name": "stdout",
     "output_type": "stream",
     "text": [
      "[[ 1.00000000e+00 -1.66533454e-16  8.32667268e-17  6.41847686e-17]\n",
      " [ 0.00000000e+00  1.00000000e+00  5.55111512e-17  2.77555756e-17]\n",
      " [ 1.11022302e-16  0.00000000e+00  1.00000000e+00  2.77555756e-17]\n",
      " [-1.11022302e-16  0.00000000e+00  1.11022302e-16  1.00000000e+00]]\n"
     ]
    }
   ],
   "source": [
    "print(C@np.linalg.inv(C))"
   ]
  },
  {
   "cell_type": "code",
   "execution_count": 29,
   "metadata": {},
   "outputs": [
    {
     "name": "stdout",
     "output_type": "stream",
     "text": [
      "[[-0.54438272 -0.24485805 -0.5822454   0.29228081]\n",
      " [-0.24485805 -0.29169375 -0.82970877 -0.05369597]\n",
      " [-0.5822454  -0.82970877  0.82254491 -1.27451485]\n",
      " [ 0.29228081 -0.05369597 -1.27451485  0.19686124]]\n"
     ]
    }
   ],
   "source": [
    "S = 0.5 * (  C + C.T)\n",
    "print(S)"
   ]
  },
  {
   "cell_type": "code",
   "execution_count": 30,
   "metadata": {},
   "outputs": [
    {
     "data": {
      "text/plain": [
       "array([[-0.54438272, -0.24485805, -0.5822454 ,  0.29228081],\n",
       "       [-0.24485805, -0.29169375, -0.82970877, -0.05369597],\n",
       "       [-0.5822454 , -0.82970877,  0.82254491, -1.27451485],\n",
       "       [ 0.29228081, -0.05369597, -1.27451485,  0.19686124]])"
      ]
     },
     "execution_count": 30,
     "metadata": {},
     "output_type": "execute_result"
    }
   ],
   "source": [
    "S.T"
   ]
  },
  {
   "cell_type": "markdown",
   "metadata": {},
   "source": [
    "S is a symmetric matrix and hence, S transpose is equal to the S"
   ]
  },
  {
   "cell_type": "code",
   "execution_count": 32,
   "metadata": {},
   "outputs": [
    {
     "name": "stdout",
     "output_type": "stream",
     "text": [
      "[ 2.11623946 -1.35369176  0.04072203 -0.61994005]\n",
      "[-0.80662467+0.j         -0.3807415 +1.67337999j -0.3807415 -1.67337999j\n",
      "  1.75143734+0.j        ]\n"
     ]
    }
   ],
   "source": [
    "eigens = np.linalg.eigvals(S)\n",
    "print(eigens)\n",
    "eigenc = np.linalg.eigvals(C)\n",
    "print(eigenc)\n"
   ]
  },
  {
   "cell_type": "markdown",
   "metadata": {},
   "source": [
    "Eigen values of S and that of C differs, The eigen values of S does not contain complex numbers. "
   ]
  },
  {
   "cell_type": "markdown",
   "metadata": {},
   "source": []
  }
 ],
 "metadata": {
  "kernelspec": {
   "display_name": "base",
   "language": "python",
   "name": "python3"
  },
  "language_info": {
   "codemirror_mode": {
    "name": "ipython",
    "version": 3
   },
   "file_extension": ".py",
   "mimetype": "text/x-python",
   "name": "python",
   "nbconvert_exporter": "python",
   "pygments_lexer": "ipython3",
   "version": "3.12.2"
  }
 },
 "nbformat": 4,
 "nbformat_minor": 4
}
